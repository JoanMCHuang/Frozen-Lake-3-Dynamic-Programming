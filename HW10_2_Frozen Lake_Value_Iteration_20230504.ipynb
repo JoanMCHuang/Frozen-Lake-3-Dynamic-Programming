{
 "cells": [
  {
   "cell_type": "markdown",
   "metadata": {},
   "source": [
    "# Frozen Lake (冰湖遊戲) 之值循環(Value Iteration)"
   ]
  },
  {
   "cell_type": "code",
   "execution_count": 10,
   "metadata": {},
   "outputs": [],
   "source": [
    "# 載入相關套件\n",
    "import numpy as np\n",
    "\n",
    "# import gym\n",
    "import gymnasium as gym"
   ]
  },
  {
   "cell_type": "code",
   "execution_count": 11,
   "metadata": {},
   "outputs": [
    {
     "data": {
      "text/plain": [
       "(0, {'prob': 1})"
      ]
     },
     "execution_count": 11,
     "metadata": {},
     "output_type": "execute_result"
    }
   ],
   "source": [
    "# 環境\n",
    "env = gym.make('FrozenLake-v1') #注意要修改版本為 \"FrozenLake-v1\"\n",
    "env.reset()"
   ]
  },
  {
   "cell_type": "code",
   "execution_count": 12,
   "metadata": {},
   "outputs": [],
   "source": [
    "# 注意新版要定義 環境 space 和 行動 action 如下, 否則程式會出錯\n",
    "nS = env.observation_space.n\n",
    "nA = env.action_space.n"
   ]
  },
  {
   "cell_type": "code",
   "execution_count": 13,
   "metadata": {},
   "outputs": [],
   "source": [
    "# 值循環函數\n",
    "def value_iteration(env, theta=0.0001, discount_factor=0.9):\n",
    "    # 計算行動值函數\n",
    "    def one_step_lookahead(state, V):\n",
    "        A = np.zeros(nA)\n",
    "        for a in range(nA):\n",
    "            for prob, next_state, reward, done in env.P[state][a]:\n",
    "                A[a] += prob * (reward + discount_factor * V[next_state])\n",
    "        return A\n",
    "\n",
    "    # 狀態值函數初始化\n",
    "    V = np.zeros(nS)\n",
    "    while True:\n",
    "        delta = 0\n",
    "        # 更新每個狀態值的函數\n",
    "        for s in range(nS):\n",
    "            # 計算下一步的行動值函數\n",
    "            A = one_step_lookahead(s, V)\n",
    "            best_action_value = np.max(A)\n",
    "            # 比較更新前後的差值，取最大值\n",
    "            delta = max(delta, np.abs(best_action_value - V[s]))\n",
    "            # 更新狀態值函數\n",
    "            V[s] = best_action_value        \n",
    "        # 若最大差值 < 門檻值，則停止評估\n",
    "        if delta < theta:\n",
    "            break\n",
    "\n",
    "    # 一開始採隨機策略，往上/下/左/右走的機率(π)均等\n",
    "    policy = np.zeros([nS, nA])\n",
    "    for s in range(nS):\n",
    "        # 計算下一步的行動值函數\n",
    "        A = one_step_lookahead(s, V)\n",
    "        # 選擇最佳行動\n",
    "        best_action = np.argmax(A)\n",
    "        # 永遠採取最佳行動\n",
    "        policy[s, best_action] = 1.0\n",
    "    \n",
    "    return policy, V            "
   ]
  },
  {
   "cell_type": "code",
   "execution_count": 14,
   "metadata": {},
   "outputs": [],
   "source": [
    "# 執行值循環\n",
    "policy, v = value_iteration(env)"
   ]
  },
  {
   "cell_type": "code",
   "execution_count": 15,
   "metadata": {},
   "outputs": [
    {
     "name": "stdout",
     "output_type": "stream",
     "text": [
      "策略機率分配:\n",
      "[[1. 0. 0. 0.]\n",
      " [0. 0. 0. 1.]\n",
      " [1. 0. 0. 0.]\n",
      " [0. 0. 0. 1.]\n",
      " [1. 0. 0. 0.]\n",
      " [1. 0. 0. 0.]\n",
      " [1. 0. 0. 0.]\n",
      " [1. 0. 0. 0.]\n",
      " [0. 0. 0. 1.]\n",
      " [0. 1. 0. 0.]\n",
      " [1. 0. 0. 0.]\n",
      " [1. 0. 0. 0.]\n",
      " [1. 0. 0. 0.]\n",
      " [0. 0. 1. 0.]\n",
      " [0. 1. 0. 0.]\n",
      " [1. 0. 0. 0.]]\n",
      "\n",
      "4x4 策略機率分配 (0=up, 1=right, 2=down, 3=left):\n",
      "[[0 3 0 3]\n",
      " [0 0 0 0]\n",
      " [3 1 0 0]\n",
      " [0 2 1 0]]\n",
      "\n",
      "4x4 狀態值函數:\n",
      "[[0.06848032 0.06111567 0.07422254 0.05560469]\n",
      " [0.09153995 0.         0.11212558 0.        ]\n",
      " [0.14522151 0.24737863 0.29954442 0.        ]\n",
      " [0.         0.37986011 0.63898452 0.        ]]\n"
     ]
    }
   ],
   "source": [
    "# 顯示結果\n",
    "print(\"策略機率分配:\")\n",
    "print(policy)\n",
    "print(\"\")\n",
    "\n",
    "print(\"4x4 策略機率分配 (0=up, 1=right, 2=down, 3=left):\")\n",
    "print(np.reshape(np.argmax(policy, axis=1), (int(nS ** 0.5), int(nS ** 0.5))))\n",
    "print(\"\")\n",
    "\n",
    "print(\"4x4 狀態值函數:\")\n",
    "print(v.reshape((int(nS ** 0.5), int(nS ** 0.5))))"
   ]
  },
  {
   "cell_type": "code",
   "execution_count": 16,
   "metadata": {},
   "outputs": [],
   "source": [
    "# 驗證答案是否正確\n",
    "expected_v = np.array([ 0.06, 0.06, 0.07, 0.05, 0.09, 0, 0.11, 0, 0.14, 0.24, 0.29, 0, 0, 0.37, 0.63, 0])\n",
    "np.testing.assert_array_almost_equal(v, expected_v, decimal=2)"
   ]
  },
  {
   "cell_type": "markdown",
   "metadata": {},
   "source": [
    "## Frozen Lake (冰湖遊戲) 測試"
   ]
  },
  {
   "cell_type": "code",
   "execution_count": 17,
   "metadata": {},
   "outputs": [],
   "source": [
    "# import gym\n",
    "import gymnasium as gym\n",
    "\n",
    "# 環境\n",
    "env = gym.make('FrozenLake-v1')\n",
    "env.reset()\n",
    "\n",
    "# 執行策略循環\n",
    "policy, v = value_iteration(env)"
   ]
  },
  {
   "cell_type": "code",
   "execution_count": 18,
   "metadata": {},
   "outputs": [
    {
     "name": "stdout",
     "output_type": "stream",
     "text": [
      "策略機率分配:\n",
      "[[1. 0. 0. 0.]\n",
      " [0. 0. 0. 1.]\n",
      " [1. 0. 0. 0.]\n",
      " [0. 0. 0. 1.]\n",
      " [1. 0. 0. 0.]\n",
      " [1. 0. 0. 0.]\n",
      " [1. 0. 0. 0.]\n",
      " [1. 0. 0. 0.]\n",
      " [0. 0. 0. 1.]\n",
      " [0. 1. 0. 0.]\n",
      " [1. 0. 0. 0.]\n",
      " [1. 0. 0. 0.]\n",
      " [1. 0. 0. 0.]\n",
      " [0. 0. 1. 0.]\n",
      " [0. 1. 0. 0.]\n",
      " [1. 0. 0. 0.]]\n",
      "\n",
      "4x4 策略機率分配 (0=up, 1=right, 2=down, 3=left):\n",
      "[[0 3 0 3]\n",
      " [0 0 0 0]\n",
      " [3 1 0 0]\n",
      " [0 2 1 0]]\n",
      "\n",
      "4x4 狀態值函數:\n",
      "[[0.06848032 0.06111567 0.07422254 0.05560469]\n",
      " [0.09153995 0.         0.11212558 0.        ]\n",
      " [0.14522151 0.24737863 0.29954442 0.        ]\n",
      " [0.         0.37986011 0.63898452 0.        ]]\n"
     ]
    }
   ],
   "source": [
    "# 顯示結果\n",
    "print(\"策略機率分配:\")\n",
    "print(policy)\n",
    "print(\"\")\n",
    "\n",
    "print(\"4x4 策略機率分配 (0=up, 1=right, 2=down, 3=left):\")\n",
    "print(np.reshape(np.argmax(policy, axis=1), (int(nS ** 0.5), int(nS ** 0.5))))\n",
    "print(\"\")\n",
    "\n",
    "print(\"4x4 狀態值函數:\")\n",
    "print(v.reshape((int(nS ** 0.5), int(nS ** 0.5))))"
   ]
  },
  {
   "cell_type": "code",
   "execution_count": null,
   "metadata": {},
   "outputs": [],
   "source": []
  }
 ],
 "metadata": {
  "kernelspec": {
   "display_name": "Python 3 (ipykernel)",
   "language": "python",
   "name": "python3"
  },
  "language_info": {
   "codemirror_mode": {
    "name": "ipython",
    "version": 3
   },
   "file_extension": ".py",
   "mimetype": "text/x-python",
   "name": "python",
   "nbconvert_exporter": "python",
   "pygments_lexer": "ipython3",
   "version": "3.9.12"
  }
 },
 "nbformat": 4,
 "nbformat_minor": 4
}
